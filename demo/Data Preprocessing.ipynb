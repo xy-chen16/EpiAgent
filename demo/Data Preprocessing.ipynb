{
 "cells": [
  {
   "cell_type": "markdown",
   "id": "b93ed43b",
   "metadata": {},
   "source": [
    "# Data Preprocessing for Cell-by-cCRE Matrix Construction"
   ]
  },
  {
   "cell_type": "markdown",
   "id": "090b2a55",
   "metadata": {},
   "source": [
    "This notebook demonstrates how to preprocess fragment files (e.g., .bed files) to construct cell-by-cCRE matrices. These matrices use pre-defined candidate cis-regulatory elements (cCREs) as features, enabling model training or downstream analysis using EpiAgent."
   ]
  },
  {
   "cell_type": "markdown",
   "id": "45a38e2f",
   "metadata": {},
   "source": [
    "# Step 1: Genomic Version Conversion (Optional)"
   ]
  },
  {
   "cell_type": "markdown",
   "id": "d63d7d91",
   "metadata": {},
   "source": [
    "Our cCREs are defined based on the hg38 genome version. If your fragment files are in the hg19 version, they must be converted to hg38 using the liftOver tool before proceeding."
   ]
  },
  {
   "cell_type": "code",
   "execution_count": 1,
   "id": "a7c6083b",
   "metadata": {
    "ExecuteTime": {
     "end_time": "2024-12-24T02:48:30.288640Z",
     "start_time": "2024-12-24T02:48:30.283403Z"
    }
   },
   "outputs": [],
   "source": [
    "# # Example code to perform liftOver conversion\n",
    "\n",
    "# # !pip install pypiper (if required for subprocess handling)\n",
    "\n",
    "# import subprocess\n",
    "\n",
    "# # Define paths\n",
    "# fragment_file_hg19 = \"path/to/sample_fragment_hg19.bed\"\n",
    "# fragment_file_hg38 = \"../data/sample/fragment/sample_fragment_hg38.bed\"\n",
    "# lift_over_chain = \"/path/to/hg19ToHg38.over.chain\"\n",
    "# lift_over_exe = \"/path/to/liftOver\"\n",
    "\n",
    "# # Command for liftOver\n",
    "# command = f\"{lift_over_exe} {fragment_file_hg19} {lift_over_chain} {fragment_file_hg38} unlifted.bed\"\n",
    "\n",
    "# # Run the command\n",
    "# subprocess.run(command, shell=True, check=True)\n",
    "\n",
    "# print(\"Fragment file converted from hg19 to hg38 using liftOver.\")"
   ]
  },
  {
   "cell_type": "markdown",
   "id": "2ff5ff08",
   "metadata": {},
   "source": [
    "# Step 2: Fragment Overlap with cCREs"
   ]
  },
  {
   "cell_type": "markdown",
   "id": "99b2062f",
   "metadata": {},
   "source": [
    "This step uses bedtools to compute the overlap between fragment files and our cCRE files. As a demonstration, we use the sample fragment file `HCAHeartST10773171_HCAHeartST10781448.bed` from the Kanemaru2023 dataset (Kanemaru et al., Nature, 2023).\n",
    "\n",
    "**Introduction:** \n",
    "The overlap calculation helps identify which fragments correspond to specific cCREs. This is crucial for constructing cell-by-cCRE matrices for downstream analysis.\n",
    "\n",
    "**Code:** Below is an example of how to perform this operation using bedtools."
   ]
  },
  {
   "cell_type": "code",
   "execution_count": 1,
   "id": "1dd2c0ce",
   "metadata": {
    "ExecuteTime": {
     "end_time": "2024-12-24T02:49:48.348739Z",
     "start_time": "2024-12-24T02:49:47.610696Z"
    }
   },
   "outputs": [
    {
     "name": "stderr",
     "output_type": "stream",
     "text": [
      "***** WARNING: File data/sample/fragment/HCAHeartST10773171_HCAHeartST10781448.bed has inconsistent naming convention for record:\n",
      "GL000194.1\t74048\t74109\tACAAAGGTCCTAAGTA-1\t5\n",
      "\n"
     ]
    },
    {
     "name": "stdout",
     "output_type": "stream",
     "text": [
      "Overlap calculation between fragments and cCREs completed.\n"
     ]
    },
    {
     "name": "stderr",
     "output_type": "stream",
     "text": [
      "***** WARNING: File data/sample/fragment/HCAHeartST10773171_HCAHeartST10781448.bed has inconsistent naming convention for record:\n",
      "GL000194.1\t74048\t74109\tACAAAGGTCCTAAGTA-1\t5\n",
      "\n"
     ]
    }
   ],
   "source": [
    "# Python code to execute shell script for bedtools intersect\n",
    "import os\n",
    "import subprocess\n",
    "# Define paths\n",
    "CCRE_FILE_PATH = \"../data/cCRE.bed\"\n",
    "INPUT_DIR = \"../data/sample/fragment/\"\n",
    "OUTPUT_DIR = \"../data/sample/output_intersect/\"\n",
    "\n",
    "# Ensure the output directory exists\n",
    "os.makedirs(OUTPUT_DIR, exist_ok=True)\n",
    "\n",
    "# Iterate through .bed files in the input directory\n",
    "for fragments_file in os.listdir(INPUT_DIR):\n",
    "    if fragments_file.endswith(\".bed\"):\n",
    "        basename = os.path.splitext(fragments_file)[0]\n",
    "        output_file = os.path.join(OUTPUT_DIR, f\"{basename}.bed\")\n",
    "\n",
    "        # Construct bedtools command\n",
    "        command = (\n",
    "            f\"bedtools intersect -a {os.path.join(INPUT_DIR, fragments_file)} \"\n",
    "            f\"-b {CCRE_FILE_PATH} -wa -wb > {output_file}\"\n",
    "        )\n",
    "\n",
    "        # Execute the command\n",
    "        subprocess.run(command, shell=True, check=True)\n",
    "\n",
    "print(\"Overlap calculation between fragments and cCREs completed.\")"
   ]
  },
  {
   "cell_type": "markdown",
   "id": "d4628b03",
   "metadata": {},
   "source": [
    "# Step 3: Create AnnData from Intersect Results and cCRE Definitions"
   ]
  },
  {
   "cell_type": "markdown",
   "id": "a81dd4ce",
   "metadata": {},
   "source": [
    "This step constructs a cell-by-cCRE matrix from the intersect results and the cCRE definitions. The matrix is then stored as an AnnData object for downstream analysis."
   ]
  },
  {
   "cell_type": "code",
   "execution_count": 8,
   "id": "9202ee4c",
   "metadata": {
    "ExecuteTime": {
     "end_time": "2024-12-24T02:52:54.908760Z",
     "start_time": "2024-12-24T02:52:52.637808Z"
    }
   },
   "outputs": [
    {
     "name": "stdout",
     "output_type": "stream",
     "text": [
      "Generated data/sample/raw_h5ad/HCAHeartST10773171_HCAHeartST10781448.h5ad\n"
     ]
    }
   ],
   "source": [
    "from epiagent.preprocessing import construct_cell_by_ccre_matrix\n",
    "import pandas as pd\n",
    "# Process all intersect files\n",
    "ccre_bed_path = \"../data/cCRE.bed\"\n",
    "output_directory = \"../data/sample/raw_h5ad/\"\n",
    "os.makedirs(output_directory, exist_ok=True)\n",
    "\n",
    "for intersect_file in os.listdir(\"../data/sample/output_intersect/\"):\n",
    "    if intersect_file.endswith(\".bed\"):\n",
    "        output_file_path = os.path.join(\"../data/sample/output_intersect/\", intersect_file)\n",
    "        output_filename = intersect_file.replace('.bed', '.h5ad')\n",
    "        final_output_path = os.path.join(output_directory, output_filename)\n",
    "\n",
    "        # Construct AnnData\n",
    "        adata = construct_cell_by_ccre_matrix(output_file_path, ccre_bed_path)\n",
    "\n",
    "        # Optional: Add metadata\n",
    "        metadata = pd.read_csv('../data/sample/metadata.csv', index_col=0)\n",
    "        prefix = output_filename.split('.')[0]  # Remove file suffix\n",
    "        adata.obs.index = prefix + '_' + adata.obs.index\n",
    "        adata.obs = adata.obs.join(metadata, how='left')\n",
    "\n",
    "        # Save AnnData\n",
    "        adata.write(final_output_path)\n",
    "        print(f\"Generated {final_output_path}\")"
   ]
  },
  {
   "cell_type": "code",
   "execution_count": 10,
   "id": "6f9f88f5",
   "metadata": {
    "ExecuteTime": {
     "end_time": "2024-12-24T02:53:27.755089Z",
     "start_time": "2024-12-24T02:53:27.726548Z"
    }
   },
   "outputs": [
    {
     "data": {
      "text/plain": [
       "(AnnData object with n_obs × n_vars = 25 × 1355445\n",
       "     obs: 'sample', 'dataset', 'cell_type', 'region',\n",
       "                                                                                    sample   \n",
       " HCAHeartST10773171_HCAHeartST10781448_AATCATGTC...  HCAHeartST10773171_HCAHeartST10781448  \\\n",
       " HCAHeartST10773171_HCAHeartST10781448_ACAAAGGTC...                                    NaN   \n",
       " HCAHeartST10773171_HCAHeartST10781448_ACAACACTC...  HCAHeartST10773171_HCAHeartST10781448   \n",
       " HCAHeartST10773171_HCAHeartST10781448_ACTATCCGT...  HCAHeartST10773171_HCAHeartST10781448   \n",
       " HCAHeartST10773171_HCAHeartST10781448_ACTGAAACA...                                    NaN   \n",
       " HCAHeartST10773171_HCAHeartST10781448_AGCATCCCA...  HCAHeartST10773171_HCAHeartST10781448   \n",
       " HCAHeartST10773171_HCAHeartST10781448_AGGTTACTC...  HCAHeartST10773171_HCAHeartST10781448   \n",
       " HCAHeartST10773171_HCAHeartST10781448_AGTGCACGT...  HCAHeartST10773171_HCAHeartST10781448   \n",
       " HCAHeartST10773171_HCAHeartST10781448_ATCCGTGAG...  HCAHeartST10773171_HCAHeartST10781448   \n",
       " HCAHeartST10773171_HCAHeartST10781448_ATTAGCGGT...  HCAHeartST10773171_HCAHeartST10781448   \n",
       " HCAHeartST10773171_HCAHeartST10781448_ATTGACTCA...  HCAHeartST10773171_HCAHeartST10781448   \n",
       " HCAHeartST10773171_HCAHeartST10781448_CACAGGCTC...  HCAHeartST10773171_HCAHeartST10781448   \n",
       " HCAHeartST10773171_HCAHeartST10781448_CAGATTCAG...  HCAHeartST10773171_HCAHeartST10781448   \n",
       " HCAHeartST10773171_HCAHeartST10781448_CCATTATTC...  HCAHeartST10773171_HCAHeartST10781448   \n",
       " HCAHeartST10773171_HCAHeartST10781448_CCGGTAGGT...                                    NaN   \n",
       " HCAHeartST10773171_HCAHeartST10781448_CCTAATCGT...                                    NaN   \n",
       " HCAHeartST10773171_HCAHeartST10781448_CGCAATAGT...  HCAHeartST10773171_HCAHeartST10781448   \n",
       " HCAHeartST10773171_HCAHeartST10781448_CTAACCCTC...  HCAHeartST10773171_HCAHeartST10781448   \n",
       " HCAHeartST10773171_HCAHeartST10781448_CTTCATCCA...  HCAHeartST10773171_HCAHeartST10781448   \n",
       " HCAHeartST10773171_HCAHeartST10781448_CTTCTCAAG...  HCAHeartST10773171_HCAHeartST10781448   \n",
       " HCAHeartST10773171_HCAHeartST10781448_GGTTTCCTC...                                    NaN   \n",
       " HCAHeartST10773171_HCAHeartST10781448_GTCATGCCA...                                    NaN   \n",
       " HCAHeartST10773171_HCAHeartST10781448_GTGCTGATC...  HCAHeartST10773171_HCAHeartST10781448   \n",
       " HCAHeartST10773171_HCAHeartST10781448_TCATTGTTC...  HCAHeartST10773171_HCAHeartST10781448   \n",
       " HCAHeartST10773171_HCAHeartST10781448_TTGGTGAGT...  HCAHeartST10773171_HCAHeartST10781448   \n",
       " \n",
       "                                                          dataset   \n",
       " HCAHeartST10773171_HCAHeartST10781448_AATCATGTC...  Kanemura2023  \\\n",
       " HCAHeartST10773171_HCAHeartST10781448_ACAAAGGTC...           NaN   \n",
       " HCAHeartST10773171_HCAHeartST10781448_ACAACACTC...  Kanemura2023   \n",
       " HCAHeartST10773171_HCAHeartST10781448_ACTATCCGT...  Kanemura2023   \n",
       " HCAHeartST10773171_HCAHeartST10781448_ACTGAAACA...           NaN   \n",
       " HCAHeartST10773171_HCAHeartST10781448_AGCATCCCA...  Kanemura2023   \n",
       " HCAHeartST10773171_HCAHeartST10781448_AGGTTACTC...  Kanemura2023   \n",
       " HCAHeartST10773171_HCAHeartST10781448_AGTGCACGT...  Kanemura2023   \n",
       " HCAHeartST10773171_HCAHeartST10781448_ATCCGTGAG...  Kanemura2023   \n",
       " HCAHeartST10773171_HCAHeartST10781448_ATTAGCGGT...  Kanemura2023   \n",
       " HCAHeartST10773171_HCAHeartST10781448_ATTGACTCA...  Kanemura2023   \n",
       " HCAHeartST10773171_HCAHeartST10781448_CACAGGCTC...  Kanemura2023   \n",
       " HCAHeartST10773171_HCAHeartST10781448_CAGATTCAG...  Kanemura2023   \n",
       " HCAHeartST10773171_HCAHeartST10781448_CCATTATTC...  Kanemura2023   \n",
       " HCAHeartST10773171_HCAHeartST10781448_CCGGTAGGT...           NaN   \n",
       " HCAHeartST10773171_HCAHeartST10781448_CCTAATCGT...           NaN   \n",
       " HCAHeartST10773171_HCAHeartST10781448_CGCAATAGT...  Kanemura2023   \n",
       " HCAHeartST10773171_HCAHeartST10781448_CTAACCCTC...  Kanemura2023   \n",
       " HCAHeartST10773171_HCAHeartST10781448_CTTCATCCA...  Kanemura2023   \n",
       " HCAHeartST10773171_HCAHeartST10781448_CTTCTCAAG...  Kanemura2023   \n",
       " HCAHeartST10773171_HCAHeartST10781448_GGTTTCCTC...           NaN   \n",
       " HCAHeartST10773171_HCAHeartST10781448_GTCATGCCA...           NaN   \n",
       " HCAHeartST10773171_HCAHeartST10781448_GTGCTGATC...  Kanemura2023   \n",
       " HCAHeartST10773171_HCAHeartST10781448_TCATTGTTC...  Kanemura2023   \n",
       " HCAHeartST10773171_HCAHeartST10781448_TTGGTGAGT...  Kanemura2023   \n",
       " \n",
       "                                                                     cell_type   \n",
       " HCAHeartST10773171_HCAHeartST10781448_AATCATGTC...  Ventricular Cardiomyocyte  \\\n",
       " HCAHeartST10773171_HCAHeartST10781448_ACAAAGGTC...                        NaN   \n",
       " HCAHeartST10773171_HCAHeartST10781448_ACAACACTC...                   Lymphoid   \n",
       " HCAHeartST10773171_HCAHeartST10781448_ACTATCCGT...                 Mural cell   \n",
       " HCAHeartST10773171_HCAHeartST10781448_ACTGAAACA...                        NaN   \n",
       " HCAHeartST10773171_HCAHeartST10781448_AGCATCCCA...  Ventricular Cardiomyocyte   \n",
       " HCAHeartST10773171_HCAHeartST10781448_AGGTTACTC...           Endothelial cell   \n",
       " HCAHeartST10773171_HCAHeartST10781448_AGTGCACGT...                 Mural cell   \n",
       " HCAHeartST10773171_HCAHeartST10781448_ATCCGTGAG...                Neural cell   \n",
       " HCAHeartST10773171_HCAHeartST10781448_ATTAGCGGT...  Ventricular Cardiomyocyte   \n",
       " HCAHeartST10773171_HCAHeartST10781448_ATTGACTCA...                 Fibroblast   \n",
       " HCAHeartST10773171_HCAHeartST10781448_CACAGGCTC...  Ventricular Cardiomyocyte   \n",
       " HCAHeartST10773171_HCAHeartST10781448_CAGATTCAG...       Atrial Cardiomyocyte   \n",
       " HCAHeartST10773171_HCAHeartST10781448_CCATTATTC...       Atrial Cardiomyocyte   \n",
       " HCAHeartST10773171_HCAHeartST10781448_CCGGTAGGT...                        NaN   \n",
       " HCAHeartST10773171_HCAHeartST10781448_CCTAATCGT...                        NaN   \n",
       " HCAHeartST10773171_HCAHeartST10781448_CGCAATAGT...  Ventricular Cardiomyocyte   \n",
       " HCAHeartST10773171_HCAHeartST10781448_CTAACCCTC...                 Mural cell   \n",
       " HCAHeartST10773171_HCAHeartST10781448_CTTCATCCA...  Ventricular Cardiomyocyte   \n",
       " HCAHeartST10773171_HCAHeartST10781448_CTTCTCAAG...       Atrial Cardiomyocyte   \n",
       " HCAHeartST10773171_HCAHeartST10781448_GGTTTCCTC...                        NaN   \n",
       " HCAHeartST10773171_HCAHeartST10781448_GTCATGCCA...                        NaN   \n",
       " HCAHeartST10773171_HCAHeartST10781448_GTGCTGATC...  Ventricular Cardiomyocyte   \n",
       " HCAHeartST10773171_HCAHeartST10781448_TCATTGTTC...  Ventricular Cardiomyocyte   \n",
       " HCAHeartST10773171_HCAHeartST10781448_TTGGTGAGT...  Ventricular Cardiomyocyte   \n",
       " \n",
       "                                                    region  \n",
       " HCAHeartST10773171_HCAHeartST10781448_AATCATGTC...    AVN  \n",
       " HCAHeartST10773171_HCAHeartST10781448_ACAAAGGTC...    NaN  \n",
       " HCAHeartST10773171_HCAHeartST10781448_ACAACACTC...    AVN  \n",
       " HCAHeartST10773171_HCAHeartST10781448_ACTATCCGT...    AVN  \n",
       " HCAHeartST10773171_HCAHeartST10781448_ACTGAAACA...    NaN  \n",
       " HCAHeartST10773171_HCAHeartST10781448_AGCATCCCA...    AVN  \n",
       " HCAHeartST10773171_HCAHeartST10781448_AGGTTACTC...    AVN  \n",
       " HCAHeartST10773171_HCAHeartST10781448_AGTGCACGT...    AVN  \n",
       " HCAHeartST10773171_HCAHeartST10781448_ATCCGTGAG...    AVN  \n",
       " HCAHeartST10773171_HCAHeartST10781448_ATTAGCGGT...    AVN  \n",
       " HCAHeartST10773171_HCAHeartST10781448_ATTGACTCA...    AVN  \n",
       " HCAHeartST10773171_HCAHeartST10781448_CACAGGCTC...    AVN  \n",
       " HCAHeartST10773171_HCAHeartST10781448_CAGATTCAG...    AVN  \n",
       " HCAHeartST10773171_HCAHeartST10781448_CCATTATTC...    AVN  \n",
       " HCAHeartST10773171_HCAHeartST10781448_CCGGTAGGT...    NaN  \n",
       " HCAHeartST10773171_HCAHeartST10781448_CCTAATCGT...    NaN  \n",
       " HCAHeartST10773171_HCAHeartST10781448_CGCAATAGT...    AVN  \n",
       " HCAHeartST10773171_HCAHeartST10781448_CTAACCCTC...    AVN  \n",
       " HCAHeartST10773171_HCAHeartST10781448_CTTCATCCA...    AVN  \n",
       " HCAHeartST10773171_HCAHeartST10781448_CTTCTCAAG...    AVN  \n",
       " HCAHeartST10773171_HCAHeartST10781448_GGTTTCCTC...    NaN  \n",
       " HCAHeartST10773171_HCAHeartST10781448_GTCATGCCA...    NaN  \n",
       " HCAHeartST10773171_HCAHeartST10781448_GTGCTGATC...    AVN  \n",
       " HCAHeartST10773171_HCAHeartST10781448_TCATTGTTC...    AVN  \n",
       " HCAHeartST10773171_HCAHeartST10781448_TTGGTGAGT...    AVN  ,\n",
       " Empty DataFrame\n",
       " Columns: []\n",
       " Index: [chr1:9848-10355, chr1:11059-11559, chr1:13243-13743, chr1:15385-15885, chr1:15989-16489, chr1:29163-29563, chr1:74161-74661, chr1:74783-75283, chr1:75380-75880, chr1:76161-76661, chr1:79215-79615, chr1:87865-88365, chr1:89821-90321, chr1:91195-91695, chr1:94321-94821, chr1:96458-96959, chr1:102755-103155, chr1:104016-104516, chr1:104760-105260, chr1:115530-115930, chr1:127576-128076, chr1:134291-134791, chr1:136613-137113, chr1:137235-137735, chr1:138979-139479, chr1:172529-173029, chr1:180570-181069, chr1:181273-181673, chr1:184281-184681, chr1:185527-185927, chr1:191227-191726, chr1:260986-261486, chr1:265715-266115, chr1:266562-267062, chr1:267141-267641, chr1:267759-268258, chr1:270915-271415, chr1:273043-273543, chr1:274245-274745, chr1:276109-276509, chr1:280580-281080, chr1:281328-281828, chr1:291994-292494, chr1:296023-296523, chr1:359928-360428, chr1:494210-494710, chr1:585948-586447, chr1:588755-589255, chr1:592036-592536, chr1:597799-598299, chr1:605377-605777, chr1:610451-610951, chr1:611484-611984, chr1:629065-629465, chr1:629697-630510, chr1:631178-631578, chr1:632120-632520, chr1:633354-633754, chr1:633780-634630, chr1:640413-640913, chr1:650229-650729, chr1:665780-666280, chr1:668877-669377, chr1:674729-675229, chr1:723056-723556, chr1:727023-727423, chr1:728937-729437, chr1:730090-730590, chr1:733499-733999, chr1:737287-737687, chr1:738180-738680, chr1:740351-740851, chr1:744140-744640, chr1:770851-771351, chr1:771765-772265, chr1:772619-773119, chr1:778387-779386, chr1:779540-780039, chr1:794897-795297, chr1:802181-802681, chr1:804733-805133, chr1:807029-807529, chr1:807828-808328, chr1:814534-815034, chr1:816163-816563, chr1:817101-817600, chr1:817901-818301, chr1:818525-819024, chr1:819832-820232, chr1:821262-821662, chr1:825755-826155, chr1:826654-827275, chr1:827320-827819, chr1:830730-831130, chr1:831611-832011, chr1:832113-832513, chr1:832724-833124, chr1:833159-833658, chr1:835499-835899, chr1:837738-838238, ...]\n",
       " \n",
       " [1355445 rows x 0 columns])"
      ]
     },
     "execution_count": 10,
     "metadata": {},
     "output_type": "execute_result"
    }
   ],
   "source": [
    "adata,adata.obs,adata.var"
   ]
  },
  {
   "cell_type": "markdown",
   "id": "783dd52d",
   "metadata": {
    "ExecuteTime": {
     "end_time": "2024-12-24T02:48:11.502788Z",
     "start_time": "2024-12-24T02:48:11.498024Z"
    }
   },
   "source": [
    "# Step 4: Continuous Value Conversion and Tokenization"
   ]
  },
  {
   "cell_type": "markdown",
   "id": "07da903f",
   "metadata": {},
   "source": [
    "This step applies TF-IDF to the cell-by-cCRE matrix to quantify the importance of accessible cCREs. The processed matrix is then tokenized to generate cell sentences for downstream tasks."
   ]
  },
  {
   "cell_type": "code",
   "execution_count": 11,
   "id": "a3b8b044",
   "metadata": {
    "ExecuteTime": {
     "end_time": "2024-12-24T02:53:45.349663Z",
     "start_time": "2024-12-24T02:53:44.624491Z"
    }
   },
   "outputs": [
    {
     "name": "stdout",
     "output_type": "stream",
     "text": [
      "Applying TF-IDF...\n",
      "Tokenizing the data...\n",
      "Tokenization complete: 'cell_sentences' column added to adata.obs.\n",
      "Processed data saved at data/sample/processed_h5ad/processed_sampled_data.h5ad\n"
     ]
    }
   ],
   "source": [
    "from epiagent.preprocessing import global_TFIDF\n",
    "from epiagent.tokenization import tokenization\n",
    "import numpy as np\n",
    "\n",
    "cCRE_document_frequency = np.load('../data/cCRE_document_frequency.npy')\n",
    "\n",
    "# Apply TF-IDF\n",
    "print(\"Applying TF-IDF...\")\n",
    "global_TFIDF(adata, cCRE_document_frequency)\n",
    "\n",
    "# Tokenize the data\n",
    "print(\"Tokenizing the data...\")\n",
    "tokenization(adata)\n",
    "\n",
    "# Save the processed AnnData\n",
    "processed_output_dir = \"../data/sample/processed_h5ad/\"\n",
    "os.makedirs(processed_output_dir, exist_ok=True)\n",
    "processed_output_path = os.path.join(processed_output_dir, \"processed_sampled_data.h5ad\")\n",
    "adata.write(processed_output_path)\n",
    "print(f\"Processed data saved at {processed_output_path}\")"
   ]
  },
  {
   "cell_type": "code",
   "execution_count": 12,
   "id": "578a8a7a",
   "metadata": {
    "ExecuteTime": {
     "end_time": "2024-12-24T02:53:48.423099Z",
     "start_time": "2024-12-24T02:53:48.414025Z"
    }
   },
   "outputs": [
    {
     "data": {
      "text/plain": [
       "(AnnData object with n_obs × n_vars = 25 × 1355445\n",
       "     obs: 'sample', 'dataset', 'cell_type', 'region', 'cell_sentences',\n",
       "                                                                                    sample   \n",
       " HCAHeartST10773171_HCAHeartST10781448_AATCATGTC...  HCAHeartST10773171_HCAHeartST10781448  \\\n",
       " HCAHeartST10773171_HCAHeartST10781448_ACAAAGGTC...                                    NaN   \n",
       " HCAHeartST10773171_HCAHeartST10781448_ACAACACTC...  HCAHeartST10773171_HCAHeartST10781448   \n",
       " HCAHeartST10773171_HCAHeartST10781448_ACTATCCGT...  HCAHeartST10773171_HCAHeartST10781448   \n",
       " HCAHeartST10773171_HCAHeartST10781448_ACTGAAACA...                                    NaN   \n",
       " HCAHeartST10773171_HCAHeartST10781448_AGCATCCCA...  HCAHeartST10773171_HCAHeartST10781448   \n",
       " HCAHeartST10773171_HCAHeartST10781448_AGGTTACTC...  HCAHeartST10773171_HCAHeartST10781448   \n",
       " HCAHeartST10773171_HCAHeartST10781448_AGTGCACGT...  HCAHeartST10773171_HCAHeartST10781448   \n",
       " HCAHeartST10773171_HCAHeartST10781448_ATCCGTGAG...  HCAHeartST10773171_HCAHeartST10781448   \n",
       " HCAHeartST10773171_HCAHeartST10781448_ATTAGCGGT...  HCAHeartST10773171_HCAHeartST10781448   \n",
       " HCAHeartST10773171_HCAHeartST10781448_ATTGACTCA...  HCAHeartST10773171_HCAHeartST10781448   \n",
       " HCAHeartST10773171_HCAHeartST10781448_CACAGGCTC...  HCAHeartST10773171_HCAHeartST10781448   \n",
       " HCAHeartST10773171_HCAHeartST10781448_CAGATTCAG...  HCAHeartST10773171_HCAHeartST10781448   \n",
       " HCAHeartST10773171_HCAHeartST10781448_CCATTATTC...  HCAHeartST10773171_HCAHeartST10781448   \n",
       " HCAHeartST10773171_HCAHeartST10781448_CCGGTAGGT...                                    NaN   \n",
       " HCAHeartST10773171_HCAHeartST10781448_CCTAATCGT...                                    NaN   \n",
       " HCAHeartST10773171_HCAHeartST10781448_CGCAATAGT...  HCAHeartST10773171_HCAHeartST10781448   \n",
       " HCAHeartST10773171_HCAHeartST10781448_CTAACCCTC...  HCAHeartST10773171_HCAHeartST10781448   \n",
       " HCAHeartST10773171_HCAHeartST10781448_CTTCATCCA...  HCAHeartST10773171_HCAHeartST10781448   \n",
       " HCAHeartST10773171_HCAHeartST10781448_CTTCTCAAG...  HCAHeartST10773171_HCAHeartST10781448   \n",
       " HCAHeartST10773171_HCAHeartST10781448_GGTTTCCTC...                                    NaN   \n",
       " HCAHeartST10773171_HCAHeartST10781448_GTCATGCCA...                                    NaN   \n",
       " HCAHeartST10773171_HCAHeartST10781448_GTGCTGATC...  HCAHeartST10773171_HCAHeartST10781448   \n",
       " HCAHeartST10773171_HCAHeartST10781448_TCATTGTTC...  HCAHeartST10773171_HCAHeartST10781448   \n",
       " HCAHeartST10773171_HCAHeartST10781448_TTGGTGAGT...  HCAHeartST10773171_HCAHeartST10781448   \n",
       " \n",
       "                                                          dataset   \n",
       " HCAHeartST10773171_HCAHeartST10781448_AATCATGTC...  Kanemura2023  \\\n",
       " HCAHeartST10773171_HCAHeartST10781448_ACAAAGGTC...           NaN   \n",
       " HCAHeartST10773171_HCAHeartST10781448_ACAACACTC...  Kanemura2023   \n",
       " HCAHeartST10773171_HCAHeartST10781448_ACTATCCGT...  Kanemura2023   \n",
       " HCAHeartST10773171_HCAHeartST10781448_ACTGAAACA...           NaN   \n",
       " HCAHeartST10773171_HCAHeartST10781448_AGCATCCCA...  Kanemura2023   \n",
       " HCAHeartST10773171_HCAHeartST10781448_AGGTTACTC...  Kanemura2023   \n",
       " HCAHeartST10773171_HCAHeartST10781448_AGTGCACGT...  Kanemura2023   \n",
       " HCAHeartST10773171_HCAHeartST10781448_ATCCGTGAG...  Kanemura2023   \n",
       " HCAHeartST10773171_HCAHeartST10781448_ATTAGCGGT...  Kanemura2023   \n",
       " HCAHeartST10773171_HCAHeartST10781448_ATTGACTCA...  Kanemura2023   \n",
       " HCAHeartST10773171_HCAHeartST10781448_CACAGGCTC...  Kanemura2023   \n",
       " HCAHeartST10773171_HCAHeartST10781448_CAGATTCAG...  Kanemura2023   \n",
       " HCAHeartST10773171_HCAHeartST10781448_CCATTATTC...  Kanemura2023   \n",
       " HCAHeartST10773171_HCAHeartST10781448_CCGGTAGGT...           NaN   \n",
       " HCAHeartST10773171_HCAHeartST10781448_CCTAATCGT...           NaN   \n",
       " HCAHeartST10773171_HCAHeartST10781448_CGCAATAGT...  Kanemura2023   \n",
       " HCAHeartST10773171_HCAHeartST10781448_CTAACCCTC...  Kanemura2023   \n",
       " HCAHeartST10773171_HCAHeartST10781448_CTTCATCCA...  Kanemura2023   \n",
       " HCAHeartST10773171_HCAHeartST10781448_CTTCTCAAG...  Kanemura2023   \n",
       " HCAHeartST10773171_HCAHeartST10781448_GGTTTCCTC...           NaN   \n",
       " HCAHeartST10773171_HCAHeartST10781448_GTCATGCCA...           NaN   \n",
       " HCAHeartST10773171_HCAHeartST10781448_GTGCTGATC...  Kanemura2023   \n",
       " HCAHeartST10773171_HCAHeartST10781448_TCATTGTTC...  Kanemura2023   \n",
       " HCAHeartST10773171_HCAHeartST10781448_TTGGTGAGT...  Kanemura2023   \n",
       " \n",
       "                                                                     cell_type   \n",
       " HCAHeartST10773171_HCAHeartST10781448_AATCATGTC...  Ventricular Cardiomyocyte  \\\n",
       " HCAHeartST10773171_HCAHeartST10781448_ACAAAGGTC...                        NaN   \n",
       " HCAHeartST10773171_HCAHeartST10781448_ACAACACTC...                   Lymphoid   \n",
       " HCAHeartST10773171_HCAHeartST10781448_ACTATCCGT...                 Mural cell   \n",
       " HCAHeartST10773171_HCAHeartST10781448_ACTGAAACA...                        NaN   \n",
       " HCAHeartST10773171_HCAHeartST10781448_AGCATCCCA...  Ventricular Cardiomyocyte   \n",
       " HCAHeartST10773171_HCAHeartST10781448_AGGTTACTC...           Endothelial cell   \n",
       " HCAHeartST10773171_HCAHeartST10781448_AGTGCACGT...                 Mural cell   \n",
       " HCAHeartST10773171_HCAHeartST10781448_ATCCGTGAG...                Neural cell   \n",
       " HCAHeartST10773171_HCAHeartST10781448_ATTAGCGGT...  Ventricular Cardiomyocyte   \n",
       " HCAHeartST10773171_HCAHeartST10781448_ATTGACTCA...                 Fibroblast   \n",
       " HCAHeartST10773171_HCAHeartST10781448_CACAGGCTC...  Ventricular Cardiomyocyte   \n",
       " HCAHeartST10773171_HCAHeartST10781448_CAGATTCAG...       Atrial Cardiomyocyte   \n",
       " HCAHeartST10773171_HCAHeartST10781448_CCATTATTC...       Atrial Cardiomyocyte   \n",
       " HCAHeartST10773171_HCAHeartST10781448_CCGGTAGGT...                        NaN   \n",
       " HCAHeartST10773171_HCAHeartST10781448_CCTAATCGT...                        NaN   \n",
       " HCAHeartST10773171_HCAHeartST10781448_CGCAATAGT...  Ventricular Cardiomyocyte   \n",
       " HCAHeartST10773171_HCAHeartST10781448_CTAACCCTC...                 Mural cell   \n",
       " HCAHeartST10773171_HCAHeartST10781448_CTTCATCCA...  Ventricular Cardiomyocyte   \n",
       " HCAHeartST10773171_HCAHeartST10781448_CTTCTCAAG...       Atrial Cardiomyocyte   \n",
       " HCAHeartST10773171_HCAHeartST10781448_GGTTTCCTC...                        NaN   \n",
       " HCAHeartST10773171_HCAHeartST10781448_GTCATGCCA...                        NaN   \n",
       " HCAHeartST10773171_HCAHeartST10781448_GTGCTGATC...  Ventricular Cardiomyocyte   \n",
       " HCAHeartST10773171_HCAHeartST10781448_TCATTGTTC...  Ventricular Cardiomyocyte   \n",
       " HCAHeartST10773171_HCAHeartST10781448_TTGGTGAGT...  Ventricular Cardiomyocyte   \n",
       " \n",
       "                                                    region   \n",
       " HCAHeartST10773171_HCAHeartST10781448_AATCATGTC...    AVN  \\\n",
       " HCAHeartST10773171_HCAHeartST10781448_ACAAAGGTC...    NaN   \n",
       " HCAHeartST10773171_HCAHeartST10781448_ACAACACTC...    AVN   \n",
       " HCAHeartST10773171_HCAHeartST10781448_ACTATCCGT...    AVN   \n",
       " HCAHeartST10773171_HCAHeartST10781448_ACTGAAACA...    NaN   \n",
       " HCAHeartST10773171_HCAHeartST10781448_AGCATCCCA...    AVN   \n",
       " HCAHeartST10773171_HCAHeartST10781448_AGGTTACTC...    AVN   \n",
       " HCAHeartST10773171_HCAHeartST10781448_AGTGCACGT...    AVN   \n",
       " HCAHeartST10773171_HCAHeartST10781448_ATCCGTGAG...    AVN   \n",
       " HCAHeartST10773171_HCAHeartST10781448_ATTAGCGGT...    AVN   \n",
       " HCAHeartST10773171_HCAHeartST10781448_ATTGACTCA...    AVN   \n",
       " HCAHeartST10773171_HCAHeartST10781448_CACAGGCTC...    AVN   \n",
       " HCAHeartST10773171_HCAHeartST10781448_CAGATTCAG...    AVN   \n",
       " HCAHeartST10773171_HCAHeartST10781448_CCATTATTC...    AVN   \n",
       " HCAHeartST10773171_HCAHeartST10781448_CCGGTAGGT...    NaN   \n",
       " HCAHeartST10773171_HCAHeartST10781448_CCTAATCGT...    NaN   \n",
       " HCAHeartST10773171_HCAHeartST10781448_CGCAATAGT...    AVN   \n",
       " HCAHeartST10773171_HCAHeartST10781448_CTAACCCTC...    AVN   \n",
       " HCAHeartST10773171_HCAHeartST10781448_CTTCATCCA...    AVN   \n",
       " HCAHeartST10773171_HCAHeartST10781448_CTTCTCAAG...    AVN   \n",
       " HCAHeartST10773171_HCAHeartST10781448_GGTTTCCTC...    NaN   \n",
       " HCAHeartST10773171_HCAHeartST10781448_GTCATGCCA...    NaN   \n",
       " HCAHeartST10773171_HCAHeartST10781448_GTGCTGATC...    AVN   \n",
       " HCAHeartST10773171_HCAHeartST10781448_TCATTGTTC...    AVN   \n",
       " HCAHeartST10773171_HCAHeartST10781448_TTGGTGAGT...    AVN   \n",
       " \n",
       "                                                                                        cell_sentences  \n",
       " HCAHeartST10773171_HCAHeartST10781448_AATCATGTC...  [1274573,406735,208610,65876,6398,821599,86580...  \n",
       " HCAHeartST10773171_HCAHeartST10781448_ACAAAGGTC...  [827492,1114443,93437,694904,559628,1263730,29...  \n",
       " HCAHeartST10773171_HCAHeartST10781448_ACAACACTC...  [1199182,270907,1257467,809530,1298349,271236,...  \n",
       " HCAHeartST10773171_HCAHeartST10781448_ACTATCCGT...  [104159,123102,129628,992737,180622,777041,761...  \n",
       " HCAHeartST10773171_HCAHeartST10781448_ACTGAAACA...  [1053065,109119,609712,682747,694368,1038499,7...  \n",
       " HCAHeartST10773171_HCAHeartST10781448_AGCATCCCA...  [1089324,633823,786447,513051,97238,756457,275...  \n",
       " HCAHeartST10773171_HCAHeartST10781448_AGGTTACTC...  [880191,303831,739588,25222,614995,298425,6405...  \n",
       " HCAHeartST10773171_HCAHeartST10781448_AGTGCACGT...  [575412,1312918,1487,670968,354920,569337,2508...  \n",
       " HCAHeartST10773171_HCAHeartST10781448_ATCCGTGAG...  [824647,1032044,1114422,352077,366217,132081,8...  \n",
       " HCAHeartST10773171_HCAHeartST10781448_ATTAGCGGT...  [164120,1051674,826298,823030,1293124,359628,1...  \n",
       " HCAHeartST10773171_HCAHeartST10781448_ATTGACTCA...  [1126677,353660,211014,488514,1235855,1068461,...  \n",
       " HCAHeartST10773171_HCAHeartST10781448_CACAGGCTC...  [910886,260305,1072076,679030,438088,1101099,8...  \n",
       " HCAHeartST10773171_HCAHeartST10781448_CAGATTCAG...  [809530,62,1165061,102060,380846,556436,570374...  \n",
       " HCAHeartST10773171_HCAHeartST10781448_CCATTATTC...  [1105386,513091,1313256,209964,417337,214803,7...  \n",
       " HCAHeartST10773171_HCAHeartST10781448_CCGGTAGGT...  [809530,467,567633,721528,306379,517544,441623...  \n",
       " HCAHeartST10773171_HCAHeartST10781448_CCTAATCGT...  [490602,1091873,555895,583040,904928,1311324,8...  \n",
       " HCAHeartST10773171_HCAHeartST10781448_CGCAATAGT...  [1234517,878798,354382,1067104,638404,1319169,...  \n",
       " HCAHeartST10773171_HCAHeartST10781448_CTAACCCTC...  [472689,300789,1061342,453130,368386,214109,35...  \n",
       " HCAHeartST10773171_HCAHeartST10781448_CTTCATCCA...  [13581,578879,378157,1245170,296508,55745,8979...  \n",
       " HCAHeartST10773171_HCAHeartST10781448_CTTCTCAAG...  [445929,599711,468731,49010,1142965,297,17941,...  \n",
       " HCAHeartST10773171_HCAHeartST10781448_GGTTTCCTC...  [418156,885689,1291772,18574,305899,118625,757...  \n",
       " HCAHeartST10773171_HCAHeartST10781448_GTCATGCCA...  [809530,466977,467754,472951,453877,436928,440...  \n",
       " HCAHeartST10773171_HCAHeartST10781448_GTGCTGATC...  [104341,1255045,183027,622517,236735,460181,11...  \n",
       " HCAHeartST10773171_HCAHeartST10781448_TCATTGTTC...  [942518,287455,433664,634332,1201363,356494,10...  \n",
       " HCAHeartST10773171_HCAHeartST10781448_TTGGTGAGT...  [495830,1215188,158201,979504,180901,481987,20...  ,\n",
       " Empty DataFrame\n",
       " Columns: []\n",
       " Index: [chr1:9848-10355, chr1:11059-11559, chr1:13243-13743, chr1:15385-15885, chr1:15989-16489, chr1:29163-29563, chr1:74161-74661, chr1:74783-75283, chr1:75380-75880, chr1:76161-76661, chr1:79215-79615, chr1:87865-88365, chr1:89821-90321, chr1:91195-91695, chr1:94321-94821, chr1:96458-96959, chr1:102755-103155, chr1:104016-104516, chr1:104760-105260, chr1:115530-115930, chr1:127576-128076, chr1:134291-134791, chr1:136613-137113, chr1:137235-137735, chr1:138979-139479, chr1:172529-173029, chr1:180570-181069, chr1:181273-181673, chr1:184281-184681, chr1:185527-185927, chr1:191227-191726, chr1:260986-261486, chr1:265715-266115, chr1:266562-267062, chr1:267141-267641, chr1:267759-268258, chr1:270915-271415, chr1:273043-273543, chr1:274245-274745, chr1:276109-276509, chr1:280580-281080, chr1:281328-281828, chr1:291994-292494, chr1:296023-296523, chr1:359928-360428, chr1:494210-494710, chr1:585948-586447, chr1:588755-589255, chr1:592036-592536, chr1:597799-598299, chr1:605377-605777, chr1:610451-610951, chr1:611484-611984, chr1:629065-629465, chr1:629697-630510, chr1:631178-631578, chr1:632120-632520, chr1:633354-633754, chr1:633780-634630, chr1:640413-640913, chr1:650229-650729, chr1:665780-666280, chr1:668877-669377, chr1:674729-675229, chr1:723056-723556, chr1:727023-727423, chr1:728937-729437, chr1:730090-730590, chr1:733499-733999, chr1:737287-737687, chr1:738180-738680, chr1:740351-740851, chr1:744140-744640, chr1:770851-771351, chr1:771765-772265, chr1:772619-773119, chr1:778387-779386, chr1:779540-780039, chr1:794897-795297, chr1:802181-802681, chr1:804733-805133, chr1:807029-807529, chr1:807828-808328, chr1:814534-815034, chr1:816163-816563, chr1:817101-817600, chr1:817901-818301, chr1:818525-819024, chr1:819832-820232, chr1:821262-821662, chr1:825755-826155, chr1:826654-827275, chr1:827320-827819, chr1:830730-831130, chr1:831611-832011, chr1:832113-832513, chr1:832724-833124, chr1:833159-833658, chr1:835499-835899, chr1:837738-838238, ...]\n",
       " \n",
       " [1355445 rows x 0 columns])"
      ]
     },
     "execution_count": 12,
     "metadata": {},
     "output_type": "execute_result"
    }
   ],
   "source": [
    "adata,adata.obs,adata.var"
   ]
  },
  {
   "cell_type": "code",
   "execution_count": null,
   "id": "cf143559",
   "metadata": {},
   "outputs": [],
   "source": []
  }
 ],
 "metadata": {
  "kernelspec": {
   "display_name": "Python 3 (ipykernel)",
   "language": "python",
   "name": "python3"
  },
  "language_info": {
   "codemirror_mode": {
    "name": "ipython",
    "version": 3
   },
   "file_extension": ".py",
   "mimetype": "text/x-python",
   "name": "python",
   "nbconvert_exporter": "python",
   "pygments_lexer": "ipython3",
   "version": "3.8.18"
  },
  "toc": {
   "base_numbering": 1,
   "nav_menu": {},
   "number_sections": true,
   "sideBar": true,
   "skip_h1_title": false,
   "title_cell": "Table of Contents",
   "title_sidebar": "Contents",
   "toc_cell": false,
   "toc_position": {},
   "toc_section_display": true,
   "toc_window_display": false
  }
 },
 "nbformat": 4,
 "nbformat_minor": 5
}
